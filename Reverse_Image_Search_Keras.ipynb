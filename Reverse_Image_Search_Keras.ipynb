{
  "nbformat": 4,
  "nbformat_minor": 0,
  "metadata": {
    "colab": {
      "name": "Reverse_Image_Search_Keras.ipynb",
      "provenance": [],
      "collapsed_sections": [],
      "machine_shape": "hm"
    },
    "kernelspec": {
      "name": "python3",
      "display_name": "Python 3"
    },
    "accelerator": "TPU"
  },
  "cells": [
    {
      "cell_type": "code",
      "metadata": {
        "id": "qF4ogx94STPE",
        "colab_type": "code",
        "colab": {}
      },
      "source": [
        "import tarfile\n",
        "with tarfile.open('/content/101_ObjectCategories.tar.gz', 'r:gz') as tar:\n",
        "    tar.extractall()"
      ],
      "execution_count": 0,
      "outputs": []
    },
    {
      "cell_type": "code",
      "metadata": {
        "id": "t2Zp4dMMSQEj",
        "colab_type": "code",
        "colab": {}
      },
      "source": [
        "import os\n",
        "import cv2\n",
        "import numpy as np\n",
        "import pandas as pd\n",
        "from sklearn.utils import shuffle\n",
        "from sklearn.preprocessing import LabelBinarizer\n",
        "from keras.applications.vgg16 import VGG16,preprocess_input\n",
        "\n",
        "def preprocess_img(img_path):\n",
        "  dsize = (300,200)\n",
        "  new_image = cv2.imread(img_path)  \n",
        "  new_image=cv2.resize(new_image,dsize,interpolation=cv2.INTER_NEAREST)  \n",
        "  new_image=np.expand_dims(new_image,axis=0)\n",
        "  new_image=preprocess_input(new_image)\n",
        "  return new_image\n",
        "        \n",
        "def load_data():\n",
        "    output = []\n",
        "    directory = \"/content/101_ObjectCategories\" \n",
        "    categories=os.listdir(directory)\n",
        "    #catagories_one_hot = LabelBinarizer().fit_transform(categories)\n",
        "    for file in os.listdir(directory):\n",
        "      folder=directory+\"/\"+file\n",
        "      for images in os.listdir(folder):\n",
        "        img_path =folder +\"/\"+images\n",
        "        new_image=preprocess_img(img_path)\n",
        "        output.append(new_image)\n",
        "    return output\n",
        "output = load_data()\n",
        "\n",
        "def limit_data(output):\n",
        "  X_test=output[99:102]\n",
        "  X_test=X_test\n",
        "  output=output[:99]\n",
        "  X_train=output\n",
        "  return X_train,X_test"
      ],
      "execution_count": 0,
      "outputs": []
    },
    {
      "cell_type": "code",
      "metadata": {
        "id": "ED-wQ2d7h6zn",
        "colab_type": "code",
        "colab": {}
      },
      "source": [
        "import tensorflow as tf\n",
        "from keras.applications.vgg16 import VGG16\n",
        "from keras.preprocessing import image\n",
        "from keras.layers import Input\n",
        "from keras.backend import reshape\n",
        "from sklearn.neighbors import NearestNeighbors\n",
        "import matplotlib.pyplot as plt\n",
        "import numpy as np\n",
        "import cv2\n",
        "\n",
        "def model():\n",
        "  model=VGG16(weights='imagenet',include_top=False)\n",
        "  for layer in model.layers:\n",
        "    layer.trainable=False\n",
        "  model.summary()\n",
        "  return model\n",
        "\n",
        "def feature_extraction(image_data,model):\n",
        "  images_feature_vec=[]\n",
        "  features=model.predict(image_data)\n",
        "  features=np.array(features)\n",
        "  features=features.flatten()\n",
        "  print(features.shape)\n",
        "  return features\n",
        "\n",
        "def result_vector(model,feature_vector,new_img):\n",
        "  new_feature = model.predict(new_img)\n",
        "  new_feature = np.array(new_feature)\n",
        "  new_feature = new_feature.flatten()\n",
        "  N_result = 1\n",
        "  nbrs = NearestNeighbors(n_neighbors=N_result, metric=\"cosine\").fit(feature_vector)\n",
        "  distances, indices = nbrs.kneighbors([new_feature])\n",
        "  return(indices)\n",
        "\n",
        "def squeeze_dim(data):\n",
        "  for i in range(len(data)):\n",
        "    data[i]=np.squeeze(data[i])\n",
        "    print(data[i].shape)\n",
        "    return data\n",
        "\n",
        "def graph_show(data):\n",
        "  plt.imshow(data)\n",
        "  plt.show()\n",
        "\n",
        "def main():  \n",
        "  features=[]\n",
        "  output = load_data()\n",
        "  X_train,X_test=limit_data(output)\n",
        "  main_model=model()\n",
        "  for i in X_train:\n",
        "    features.append(feature_extraction(i,main_model))\n",
        "  feature_vec = np.array(features)\n",
        "  result=result_vector(main_model,feature_vec,X_test[0])\n",
        "  index_result=result[0][0]\n",
        "  X_train=squeeze_dim(X_train)\n",
        "  X_test=squeeze_dim(X_test)\n",
        "  graph_show(X_test[0])\n",
        "  graph_show(np.squeeze(X_train[index_result]))\n",
        "\n",
        "if __name__=='__main__':\n",
        "  main()\n"
      ],
      "execution_count": 0,
      "outputs": []
    },
    {
      "cell_type": "code",
      "metadata": {
        "id": "zaEcG65DPxWi",
        "colab_type": "code",
        "outputId": "d0e0ab72-0edc-471e-ceec-503414ec638d",
        "colab": {
          "base_uri": "https://localhost:8080/",
          "height": 555
        }
      },
      "source": [
        "\n",
        "#LSH code taken from https://towardsdatascience.com/finding-similar-images-using-deep-learning-and-locality-sensitive-hashing-9528afee02f5\n",
        "from lshash import LSHash\n",
        "k = 10 # hash size\n",
        "L = 5  # number of tables\n",
        "d = 27648 # Dimension of Feature vector\n",
        "lsh = LSHash(hash_size=k, input_dim=d, num_hashtables=L)\n",
        "# LSH on all the images\n",
        "for img_path, vec in tqdm_notebook(feature_vec):\n",
        "    lsh.index(vec.flatten(), extra_data=img_path)\n",
        "# query a vector q_vec\n",
        "response = lsh.query(q_vec, num_results= 1)\n"
      ],
      "execution_count": 0,
      "outputs": [
        {
          "output_type": "stream",
          "text": [
            "Clipping input data to the valid range for imshow with RGB data ([0..1] for floats or [0..255] for integers).\n"
          ],
          "name": "stderr"
        },
        {
          "output_type": "display_data",
          "data": {
            "image/png": "[encoded data removed]",
            "text/plain": [
              "<Figure size 432x288 with 1 Axes>"
            ]
          },
          "metadata": {
            "tags": []
          }
        },
        {
          "output_type": "stream",
          "text": [
            "Clipping input data to the valid range for imshow with RGB data ([0..1] for floats or [0..255] for integers).\n"
          ],
          "name": "stderr"
        },
        {
          "output_type": "display_data",
          "data": {
            "image/png": "[encoded data removed]",
            "text/plain": [
              "<Figure size 432x288 with 1 Axes>"
            ]
          },
          "metadata": {
            "tags": []
          }
        }
      ]
    }
  ]
}